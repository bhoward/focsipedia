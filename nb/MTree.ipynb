{
 "cells": [
  {
   "cell_type": "markdown",
   "metadata": {},
   "source": [
    "# Monoidal Trees\n",
    "\n",
    "Based on Brent A. Yorgey. 2012. Monoids: theme and variations (functional pearl). SIGPLAN Not. 47, 12 (December 2012), 105–116. https://doi.org/10.1145/2430532.2364520\n",
    "\n",
    "Also see https://github.com/diagrams/dual-tree\n"
   ]
  },
  {
   "cell_type": "code",
   "execution_count": 12,
   "metadata": {},
   "outputs": [
    {
     "data": {
      "text/plain": [
       "\u001b[32mimport \u001b[39m\u001b[36m$ivy.$                               \u001b[39m"
      ]
     },
     "execution_count": 12,
     "metadata": {},
     "output_type": "execute_result"
    }
   ],
   "source": [
    "import $ivy.`org.typelevel::cats-core:2.1.0`"
   ]
  },
  {
   "cell_type": "code",
   "execution_count": 13,
   "metadata": {},
   "outputs": [
    {
     "data": {
      "text/plain": [
       "\u001b[32mimport \u001b[39m\u001b[36mcats._\n",
       "\u001b[39m\n",
       "\u001b[32mimport \u001b[39m\u001b[36mcats.implicits._\n",
       "\n",
       "\u001b[39m\n",
       "defined \u001b[32mtrait\u001b[39m \u001b[36mAction\u001b[39m\n",
       "defined \u001b[32mtrait\u001b[39m \u001b[36mMTree\u001b[39m\n",
       "defined \u001b[32mclass\u001b[39m \u001b[36mLeaf\u001b[39m\n",
       "defined \u001b[32mclass\u001b[39m \u001b[36mConcat\u001b[39m\n",
       "defined \u001b[32mclass\u001b[39m \u001b[36mAct\u001b[39m"
      ]
     },
     "execution_count": 13,
     "metadata": {},
     "output_type": "execute_result"
    }
   ],
   "source": [
    "import cats._\n",
    "import cats.implicits._\n",
    "\n",
    "trait Action[M, A] extends Monoid[M] {\n",
    "  def act(a: A): A\n",
    "}\n",
    "\n",
    "sealed trait MTree[D, U, L] {\n",
    "  def u: U\n",
    "} \n",
    "\n",
    "case class Leaf[U, L](u: U, l: L) extends MTree[Nothing, U, L]\n",
    "\n",
    "case class Concat[D, U, L](u: U, ts: List[MTree[D, U, L]]) extends MTree[D, U, L]\n",
    "\n",
    "case class Act[D, U, L](d: D, t: MTree[D, U, L])(implicit act: (D, U) => U) extends MTree[D, U, L] {\n",
    "  def u: U = act(d, t.u)\n",
    "}"
   ]
  },
  {
   "cell_type": "code",
   "execution_count": 14,
   "metadata": {},
   "outputs": [
    {
     "data": {
      "text/plain": [
       "defined \u001b[32mtrait\u001b[39m \u001b[36mPrim\u001b[39m\n",
       "defined \u001b[32mclass\u001b[39m \u001b[36mCircle\u001b[39m\n",
       "defined \u001b[32mclass\u001b[39m \u001b[36mRectangle\u001b[39m\n",
       "defined \u001b[32mtype\u001b[39m \u001b[36mDiagram\u001b[39m\n",
       "\u001b[36mdemo1\u001b[39m: \u001b[32mList\u001b[39m[\u001b[32mProduct\u001b[39m with \u001b[32mSerializable\u001b[39m with \u001b[32mPrim\u001b[39m] = \u001b[33mList\u001b[39m(\n",
       "  \u001b[33mCircle\u001b[39m(\u001b[32m1.0\u001b[39m),\n",
       "  \u001b[33mRectangle\u001b[39m(\u001b[32m2.0\u001b[39m, \u001b[32m3.0\u001b[39m)\n",
       ")\n",
       "\u001b[36mdemo2\u001b[39m: \u001b[32mList\u001b[39m[\u001b[32mCircle\u001b[39m] = \u001b[33mList\u001b[39m(\u001b[33mCircle\u001b[39m(\u001b[32m4.0\u001b[39m))\n",
       "\u001b[36mres13_6\u001b[39m: \u001b[32mList\u001b[39m[\u001b[32mProduct\u001b[39m with \u001b[32mSerializable\u001b[39m with \u001b[32mPrim\u001b[39m] = \u001b[33mList\u001b[39m(\n",
       "  \u001b[33mCircle\u001b[39m(\u001b[32m1.0\u001b[39m),\n",
       "  \u001b[33mRectangle\u001b[39m(\u001b[32m2.0\u001b[39m, \u001b[32m3.0\u001b[39m),\n",
       "  \u001b[33mCircle\u001b[39m(\u001b[32m4.0\u001b[39m)\n",
       ")"
      ]
     },
     "execution_count": 14,
     "metadata": {},
     "output_type": "execute_result"
    }
   ],
   "source": [
    "trait Prim\n",
    "\n",
    "case class Circle(r: Double) extends Prim\n",
    "case class Rectangle(w: Double, h: Double) extends Prim\n",
    "\n",
    "type Diagram = List[Prim]\n",
    "\n",
    "val demo1 = List(Circle(1), Rectangle(2, 3))\n",
    "val demo2 = List(Circle(4))\n",
    "demo1 |+| demo2"
   ]
  },
  {
   "cell_type": "code",
   "execution_count": 24,
   "metadata": {},
   "outputs": [
    {
     "data": {
      "text/plain": [
       "defined \u001b[32mclass\u001b[39m \u001b[36mV2\u001b[39m\n",
       "defined \u001b[32mclass\u001b[39m \u001b[36mP2\u001b[39m\n",
       "defined \u001b[32mtype\u001b[39m \u001b[36mEnvelope\u001b[39m\n",
       "defined \u001b[32mtrait\u001b[39m \u001b[36mSegment\u001b[39m\n",
       "defined \u001b[32mclass\u001b[39m \u001b[36mLineSegment\u001b[39m\n",
       "defined \u001b[32mtrait\u001b[39m \u001b[36mDiagram\u001b[39m\n",
       "defined \u001b[32mobject\u001b[39m \u001b[36mEmpty\u001b[39m\n",
       "defined \u001b[32mclass\u001b[39m \u001b[36mPath\u001b[39m\n",
       "defined \u001b[32mclass\u001b[39m \u001b[36mOver\u001b[39m\n",
       "defined \u001b[32mobject\u001b[39m \u001b[36mDiagram\u001b[39m"
      ]
     },
     "execution_count": 24,
     "metadata": {},
     "output_type": "execute_result"
    }
   ],
   "source": [
    "case class V2(x: Double, y: Double) {\n",
    "  lazy val len: Double = math.sqrt(x * x + y * y)\n",
    "  \n",
    "  def *(m: Double) = V2(x * m, y * m)\n",
    "}\n",
    "\n",
    "case class P2(x: Double, y: Double) {\n",
    "  def translate(v: V2): P2 = P2(x + v.x, y + v.y)\n",
    "}\n",
    "\n",
    "type Envelope = V2 => Double\n",
    "\n",
    "trait Segment {\n",
    "  def translate(v: V2): Segment\n",
    "  \n",
    "  def envelope: Envelope\n",
    "}\n",
    "\n",
    "case class LineSegment(p0: P2, p1: P2) extends Segment {\n",
    "  def translate(v: V2): Segment = LineSegment(p0.translate(v), p1.translate(v))\n",
    "  \n",
    "  def envelope: Envelope = { case V2(vx, vy) =>\n",
    "    val d0 = p0.x * vx + p0.y * vy\n",
    "    val d1 = p1.x * vx + p1.y * vy\n",
    "    (d0 max d1) / (vx * vx + vy * vy)\n",
    "  }\n",
    "}\n",
    "\n",
    "// TODO ArcSegment, QBezSegment, CBezSegment\n",
    "\n",
    "trait Diagram {\n",
    "  def translate(v: V2): Diagram\n",
    "  \n",
    "  def envelope: Option[Envelope]\n",
    "  \n",
    "  def over(d: Diagram): Diagram = Over(this, d)\n",
    "  \n",
    "  def beside(v: V2, d: Diagram): Diagram = (envelope, d.envelope) match {\n",
    "    case (Some(te), Some(de)) => {\n",
    "      val vtrans = v * (te(v) + de(v * -1))\n",
    "      over(d.translate(vtrans))\n",
    "    }\n",
    "    case _ => over(d)\n",
    "  }\n",
    "}\n",
    "\n",
    "case object Empty extends Diagram {\n",
    "  def translate(v: V2): Diagram = this\n",
    "  \n",
    "  val envelope: Option[Envelope] = None\n",
    "  \n",
    "  override def over(d: Diagram): Diagram = d\n",
    "}\n",
    "\n",
    "case class Path(segments: List[Segment]) extends Diagram {\n",
    "  def translate(v: V2): Diagram = Path(segments.map(_.translate(v)))\n",
    "  \n",
    "  lazy val envelope: Option[Envelope] = Some(v => segments.map(_.envelope(v)).max)\n",
    "}\n",
    "\n",
    "case class Over(a: Diagram, b: Diagram) extends Diagram {\n",
    "  def translate(v: V2): Diagram = Over(a.translate(v), b.translate(v))\n",
    "  \n",
    "  lazy val envelope: Option[Envelope] = (a.envelope, b.envelope) match {\n",
    "    case (Some(ae), Some(be)) => Some(v => ae(v) max be(v))\n",
    "    case (e, None) => e\n",
    "    case (None, e) => e\n",
    "    case _ => None\n",
    "  }\n",
    "}\n",
    "\n",
    "object Diagram {\n",
    "  implicit val diagramMonoid: Monoid[Diagram] =\n",
    "    new Monoid[Diagram] {\n",
    "      def empty: Diagram = Empty\n",
    "      \n",
    "      def combine(a: Diagram, b: Diagram): Diagram = a.over(b)\n",
    "    }\n",
    "}"
   ]
  },
  {
   "cell_type": "code",
   "execution_count": 25,
   "metadata": {},
   "outputs": [
    {
     "data": {
      "text/plain": [
       "defined \u001b[32mfunction\u001b[39m \u001b[36mrectangle\u001b[39m\n",
       "\u001b[36mr1\u001b[39m: \u001b[32mDiagram\u001b[39m = \u001b[33mPath\u001b[39m(\n",
       "  \u001b[33mList\u001b[39m(\n",
       "    \u001b[33mLineSegment\u001b[39m(\u001b[33mP2\u001b[39m(\u001b[32m-1.0\u001b[39m, \u001b[32m1.5\u001b[39m), \u001b[33mP2\u001b[39m(\u001b[32m1.0\u001b[39m, \u001b[32m1.5\u001b[39m)),\n",
       "    \u001b[33mLineSegment\u001b[39m(\u001b[33mP2\u001b[39m(\u001b[32m1.0\u001b[39m, \u001b[32m1.5\u001b[39m), \u001b[33mP2\u001b[39m(\u001b[32m1.0\u001b[39m, \u001b[32m-1.5\u001b[39m)),\n",
       "    \u001b[33mLineSegment\u001b[39m(\u001b[33mP2\u001b[39m(\u001b[32m1.0\u001b[39m, \u001b[32m-1.5\u001b[39m), \u001b[33mP2\u001b[39m(\u001b[32m-1.0\u001b[39m, \u001b[32m-1.5\u001b[39m)),\n",
       "    \u001b[33mLineSegment\u001b[39m(\u001b[33mP2\u001b[39m(\u001b[32m-1.0\u001b[39m, \u001b[32m-1.5\u001b[39m), \u001b[33mP2\u001b[39m(\u001b[32m-1.0\u001b[39m, \u001b[32m1.5\u001b[39m))\n",
       "  )\n",
       ")\n",
       "\u001b[36me\u001b[39m: \u001b[32mV2\u001b[39m => \u001b[32mDouble\u001b[39m = ammonite.$sess.cmd23$Helper$Path$$Lambda$3507/0x00000008019d3840@1e4c70f7\n",
       "\u001b[36mres24_3\u001b[39m: \u001b[32mDouble\u001b[39m = \u001b[32m0.5\u001b[39m\n",
       "\u001b[36mres24_4\u001b[39m: \u001b[32mDouble\u001b[39m = \u001b[32m0.7\u001b[39m\n",
       "\u001b[36mres24_5\u001b[39m: \u001b[32mDouble\u001b[39m = \u001b[32m0.625\u001b[39m\n",
       "\u001b[36mres24_6\u001b[39m: \u001b[32mDouble\u001b[39m = \u001b[32m0.5\u001b[39m\n",
       "\u001b[36mres24_7\u001b[39m: \u001b[32mDouble\u001b[39m = \u001b[32m0.55\u001b[39m\n",
       "\u001b[36mres24_8\u001b[39m: \u001b[32mDouble\u001b[39m = \u001b[32m0.5\u001b[39m\n",
       "\u001b[36mres24_9\u001b[39m: \u001b[32mDouble\u001b[39m = \u001b[32m0.55\u001b[39m\n",
       "\u001b[36mres24_10\u001b[39m: \u001b[32mDouble\u001b[39m = \u001b[32m0.7\u001b[39m\n",
       "\u001b[36mres24_11\u001b[39m: \u001b[32mDouble\u001b[39m = \u001b[32m0.625\u001b[39m\n",
       "\u001b[36mres24_12\u001b[39m: \u001b[32mDouble\u001b[39m = \u001b[32m0.5\u001b[39m\n",
       "\u001b[36mres24_13\u001b[39m: \u001b[32mDouble\u001b[39m = \u001b[32m0.55\u001b[39m\n",
       "\u001b[36mres24_14\u001b[39m: \u001b[32mDouble\u001b[39m = \u001b[32m0.5\u001b[39m"
      ]
     },
     "execution_count": 25,
     "metadata": {},
     "output_type": "execute_result"
    }
   ],
   "source": [
    "def rectangle(w: Double, h: Double): Diagram = {\n",
    "  val ul = P2(-w/2, h/2)\n",
    "  val ur = P2(w/2, h/2)\n",
    "  val ll = P2(-w/2, -h/2)\n",
    "  val lr = P2(w/2, -h/2)\n",
    "  Path(List(\n",
    "    LineSegment(ul, ur),\n",
    "    LineSegment(ur, lr),\n",
    "    LineSegment(lr, ll),\n",
    "    LineSegment(ll, ul)\n",
    "  ))\n",
    "}\n",
    "\n",
    "val r1 = rectangle(2, 3)\n",
    "val Some(e) = r1.envelope\n",
    "e(V2(2, 0))\n",
    "e(V2(2, 1))\n",
    "e(V2(2, 2))\n",
    "e(V2(2, 3))\n",
    "e(V2(1, 3))\n",
    "e(V2(0, 3))\n",
    "e(V2(-1, 3))\n",
    "e(V2(2, -1))\n",
    "e(V2(2, -2))\n",
    "e(V2(2, -3))\n",
    "e(V2(1, -3))\n",
    "e(V2(0, -3))"
   ]
  },
  {
   "cell_type": "code",
   "execution_count": 26,
   "metadata": {},
   "outputs": [
    {
     "data": {
      "text/plain": [
       "\u001b[36mr2\u001b[39m: \u001b[32mDiagram\u001b[39m = \u001b[33mPath\u001b[39m(\n",
       "  \u001b[33mList\u001b[39m(\n",
       "    \u001b[33mLineSegment\u001b[39m(\u001b[33mP2\u001b[39m(\u001b[32m-0.5\u001b[39m, \u001b[32m2.0\u001b[39m), \u001b[33mP2\u001b[39m(\u001b[32m0.5\u001b[39m, \u001b[32m2.0\u001b[39m)),\n",
       "    \u001b[33mLineSegment\u001b[39m(\u001b[33mP2\u001b[39m(\u001b[32m0.5\u001b[39m, \u001b[32m2.0\u001b[39m), \u001b[33mP2\u001b[39m(\u001b[32m0.5\u001b[39m, \u001b[32m-2.0\u001b[39m)),\n",
       "    \u001b[33mLineSegment\u001b[39m(\u001b[33mP2\u001b[39m(\u001b[32m0.5\u001b[39m, \u001b[32m-2.0\u001b[39m), \u001b[33mP2\u001b[39m(\u001b[32m-0.5\u001b[39m, \u001b[32m-2.0\u001b[39m)),\n",
       "    \u001b[33mLineSegment\u001b[39m(\u001b[33mP2\u001b[39m(\u001b[32m-0.5\u001b[39m, \u001b[32m-2.0\u001b[39m), \u001b[33mP2\u001b[39m(\u001b[32m-0.5\u001b[39m, \u001b[32m2.0\u001b[39m))\n",
       "  )\n",
       ")\n",
       "\u001b[36md2\u001b[39m: \u001b[32mDiagram\u001b[39m = \u001b[33mOver\u001b[39m(\n",
       "  \u001b[33mPath\u001b[39m(\n",
       "    \u001b[33mList\u001b[39m(\n",
       "      \u001b[33mLineSegment\u001b[39m(\u001b[33mP2\u001b[39m(\u001b[32m-1.0\u001b[39m, \u001b[32m1.5\u001b[39m), \u001b[33mP2\u001b[39m(\u001b[32m1.0\u001b[39m, \u001b[32m1.5\u001b[39m)),\n",
       "      \u001b[33mLineSegment\u001b[39m(\u001b[33mP2\u001b[39m(\u001b[32m1.0\u001b[39m, \u001b[32m1.5\u001b[39m), \u001b[33mP2\u001b[39m(\u001b[32m1.0\u001b[39m, \u001b[32m-1.5\u001b[39m)),\n",
       "      \u001b[33mLineSegment\u001b[39m(\u001b[33mP2\u001b[39m(\u001b[32m1.0\u001b[39m, \u001b[32m-1.5\u001b[39m), \u001b[33mP2\u001b[39m(\u001b[32m-1.0\u001b[39m, \u001b[32m-1.5\u001b[39m)),\n",
       "      \u001b[33mLineSegment\u001b[39m(\u001b[33mP2\u001b[39m(\u001b[32m-1.0\u001b[39m, \u001b[32m-1.5\u001b[39m), \u001b[33mP2\u001b[39m(\u001b[32m-1.0\u001b[39m, \u001b[32m1.5\u001b[39m))\n",
       "    )\n",
       "  ),\n",
       "  \u001b[33mPath\u001b[39m(\n",
       "    \u001b[33mList\u001b[39m(\n",
       "      \u001b[33mLineSegment\u001b[39m(\u001b[33mP2\u001b[39m(\u001b[32m-0.5\u001b[39m, \u001b[32m2.0\u001b[39m), \u001b[33mP2\u001b[39m(\u001b[32m0.5\u001b[39m, \u001b[32m2.0\u001b[39m)),\n",
       "      \u001b[33mLineSegment\u001b[39m(\u001b[33mP2\u001b[39m(\u001b[32m0.5\u001b[39m, \u001b[32m2.0\u001b[39m), \u001b[33mP2\u001b[39m(\u001b[32m0.5\u001b[39m, \u001b[32m-2.0\u001b[39m)),\n",
       "      \u001b[33mLineSegment\u001b[39m(\u001b[33mP2\u001b[39m(\u001b[32m0.5\u001b[39m, \u001b[32m-2.0\u001b[39m), \u001b[33mP2\u001b[39m(\u001b[32m-0.5\u001b[39m, \u001b[32m-2.0\u001b[39m)),\n",
       "      \u001b[33mLineSegment\u001b[39m(\u001b[33mP2\u001b[39m(\u001b[32m-0.5\u001b[39m, \u001b[32m-2.0\u001b[39m), \u001b[33mP2\u001b[39m(\u001b[32m-0.5\u001b[39m, \u001b[32m2.0\u001b[39m))\n",
       "    )\n",
       "  )\n",
       ")\n",
       "\u001b[36me2\u001b[39m: \u001b[32mV2\u001b[39m => \u001b[32mDouble\u001b[39m = ammonite.$sess.cmd23$Helper$Over$$Lambda$3539/0x00000008019e7040@2febdc3c\n",
       "\u001b[36mres25_3\u001b[39m: \u001b[32mDouble\u001b[39m = \u001b[32m0.5\u001b[39m\n",
       "\u001b[36mres25_4\u001b[39m: \u001b[32mDouble\u001b[39m = \u001b[32m0.7\u001b[39m\n",
       "\u001b[36mres25_5\u001b[39m: \u001b[32mDouble\u001b[39m = \u001b[32m0.625\u001b[39m\n",
       "\u001b[36mres25_6\u001b[39m: \u001b[32mDouble\u001b[39m = \u001b[32m0.5384615384615384\u001b[39m\n",
       "\u001b[36mres25_7\u001b[39m: \u001b[32mDouble\u001b[39m = \u001b[32m0.65\u001b[39m\n",
       "\u001b[36mres25_8\u001b[39m: \u001b[32mDouble\u001b[39m = \u001b[32m0.6666666666666666\u001b[39m\n",
       "\u001b[36mres25_9\u001b[39m: \u001b[32mDouble\u001b[39m = \u001b[32m0.65\u001b[39m\n",
       "\u001b[36mres25_10\u001b[39m: \u001b[32mDouble\u001b[39m = \u001b[32m0.7\u001b[39m\n",
       "\u001b[36mres25_11\u001b[39m: \u001b[32mDouble\u001b[39m = \u001b[32m0.625\u001b[39m\n",
       "\u001b[36mres25_12\u001b[39m: \u001b[32mDouble\u001b[39m = \u001b[32m0.5384615384615384\u001b[39m\n",
       "\u001b[36mres25_13\u001b[39m: \u001b[32mDouble\u001b[39m = \u001b[32m0.65\u001b[39m\n",
       "\u001b[36mres25_14\u001b[39m: \u001b[32mDouble\u001b[39m = \u001b[32m0.6666666666666666\u001b[39m"
      ]
     },
     "execution_count": 26,
     "metadata": {},
     "output_type": "execute_result"
    }
   ],
   "source": [
    "val r2 = rectangle(1, 4)\n",
    "val d2 = r1 |+| r2\n",
    "val Some(e2) = d2.envelope\n",
    "e2(V2(2, 0))\n",
    "e2(V2(2, 1))\n",
    "e2(V2(2, 2))\n",
    "e2(V2(2, 3))\n",
    "e2(V2(1, 3))\n",
    "e2(V2(0, 3))\n",
    "e2(V2(-1, 3))\n",
    "e2(V2(2, -1))\n",
    "e2(V2(2, -2))\n",
    "e2(V2(2, -3))\n",
    "e2(V2(1, -3))\n",
    "e2(V2(0, -3))"
   ]
  },
  {
   "cell_type": "code",
   "execution_count": 27,
   "metadata": {},
   "outputs": [
    {
     "data": {
      "text/plain": [
       "\u001b[36md3\u001b[39m: \u001b[32mDiagram\u001b[39m = \u001b[33mOver\u001b[39m(\n",
       "  \u001b[33mPath\u001b[39m(\n",
       "    \u001b[33mList\u001b[39m(\n",
       "      \u001b[33mLineSegment\u001b[39m(\u001b[33mP2\u001b[39m(\u001b[32m-1.0\u001b[39m, \u001b[32m1.5\u001b[39m), \u001b[33mP2\u001b[39m(\u001b[32m1.0\u001b[39m, \u001b[32m1.5\u001b[39m)),\n",
       "      \u001b[33mLineSegment\u001b[39m(\u001b[33mP2\u001b[39m(\u001b[32m1.0\u001b[39m, \u001b[32m1.5\u001b[39m), \u001b[33mP2\u001b[39m(\u001b[32m1.0\u001b[39m, \u001b[32m-1.5\u001b[39m)),\n",
       "      \u001b[33mLineSegment\u001b[39m(\u001b[33mP2\u001b[39m(\u001b[32m1.0\u001b[39m, \u001b[32m-1.5\u001b[39m), \u001b[33mP2\u001b[39m(\u001b[32m-1.0\u001b[39m, \u001b[32m-1.5\u001b[39m)),\n",
       "      \u001b[33mLineSegment\u001b[39m(\u001b[33mP2\u001b[39m(\u001b[32m-1.0\u001b[39m, \u001b[32m-1.5\u001b[39m), \u001b[33mP2\u001b[39m(\u001b[32m-1.0\u001b[39m, \u001b[32m1.5\u001b[39m))\n",
       "    )\n",
       "  ),\n",
       "  \u001b[33mPath\u001b[39m(\n",
       "    \u001b[33mList\u001b[39m(\n",
       "      \u001b[33mLineSegment\u001b[39m(\u001b[33mP2\u001b[39m(\u001b[32m1.0\u001b[39m, \u001b[32m2.0\u001b[39m), \u001b[33mP2\u001b[39m(\u001b[32m2.0\u001b[39m, \u001b[32m2.0\u001b[39m)),\n",
       "      \u001b[33mLineSegment\u001b[39m(\u001b[33mP2\u001b[39m(\u001b[32m2.0\u001b[39m, \u001b[32m2.0\u001b[39m), \u001b[33mP2\u001b[39m(\u001b[32m2.0\u001b[39m, \u001b[32m-2.0\u001b[39m)),\n",
       "      \u001b[33mLineSegment\u001b[39m(\u001b[33mP2\u001b[39m(\u001b[32m2.0\u001b[39m, \u001b[32m-2.0\u001b[39m), \u001b[33mP2\u001b[39m(\u001b[32m1.0\u001b[39m, \u001b[32m-2.0\u001b[39m)),\n",
       "      \u001b[33mLineSegment\u001b[39m(\u001b[33mP2\u001b[39m(\u001b[32m1.0\u001b[39m, \u001b[32m-2.0\u001b[39m), \u001b[33mP2\u001b[39m(\u001b[32m1.0\u001b[39m, \u001b[32m2.0\u001b[39m))\n",
       "    )\n",
       "  )\n",
       ")\n",
       "\u001b[36me3\u001b[39m: \u001b[32mV2\u001b[39m => \u001b[32mDouble\u001b[39m = ammonite.$sess.cmd23$Helper$Over$$Lambda$3539/0x00000008019e7040@31547d86\n",
       "\u001b[36mres26_2\u001b[39m: \u001b[32mDouble\u001b[39m = \u001b[32m1.0\u001b[39m\n",
       "\u001b[36mres26_3\u001b[39m: \u001b[32mDouble\u001b[39m = \u001b[32m1.2\u001b[39m\n",
       "\u001b[36mres26_4\u001b[39m: \u001b[32mDouble\u001b[39m = \u001b[32m1.0\u001b[39m\n",
       "\u001b[36mres26_5\u001b[39m: \u001b[32mDouble\u001b[39m = \u001b[32m0.7692307692307693\u001b[39m\n",
       "\u001b[36mres26_6\u001b[39m: \u001b[32mDouble\u001b[39m = \u001b[32m0.8\u001b[39m\n",
       "\u001b[36mres26_7\u001b[39m: \u001b[32mDouble\u001b[39m = \u001b[32m0.6666666666666666\u001b[39m\n",
       "\u001b[36mres26_8\u001b[39m: \u001b[32mDouble\u001b[39m = \u001b[32m0.55\u001b[39m\n",
       "\u001b[36mres26_9\u001b[39m: \u001b[32mDouble\u001b[39m = \u001b[32m1.2\u001b[39m\n",
       "\u001b[36mres26_10\u001b[39m: \u001b[32mDouble\u001b[39m = \u001b[32m1.0\u001b[39m\n",
       "\u001b[36mres26_11\u001b[39m: \u001b[32mDouble\u001b[39m = \u001b[32m0.7692307692307693\u001b[39m\n",
       "\u001b[36mres26_12\u001b[39m: \u001b[32mDouble\u001b[39m = \u001b[32m0.8\u001b[39m\n",
       "\u001b[36mres26_13\u001b[39m: \u001b[32mDouble\u001b[39m = \u001b[32m0.6666666666666666\u001b[39m"
      ]
     },
     "execution_count": 27,
     "metadata": {},
     "output_type": "execute_result"
    }
   ],
   "source": [
    "val d3 = r1.beside(V2(1, 0), r2)\n",
    "val Some(e3) = d3.envelope\n",
    "e3(V2(2, 0))\n",
    "e3(V2(2, 1))\n",
    "e3(V2(2, 2))\n",
    "e3(V2(2, 3))\n",
    "e3(V2(1, 3))\n",
    "e3(V2(0, 3))\n",
    "e3(V2(-1, 3))\n",
    "e3(V2(2, -1))\n",
    "e3(V2(2, -2))\n",
    "e3(V2(2, -3))\n",
    "e3(V2(1, -3))\n",
    "e3(V2(0, -3))"
   ]
  }
 ],
 "metadata": {
  "kernelspec": {
   "display_name": "Scala (2.13)",
   "language": "scala",
   "name": "scala213"
  },
  "language_info": {
   "codemirror_mode": "text/x-scala",
   "file_extension": ".scala",
   "mimetype": "text/x-scala",
   "name": "scala",
   "nbconvert_exporter": "script",
   "version": "2.12.11"
  }
 },
 "nbformat": 4,
 "nbformat_minor": 4
}
