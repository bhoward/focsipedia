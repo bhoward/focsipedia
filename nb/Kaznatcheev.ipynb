{
 "cells": [
  {
   "cell_type": "markdown",
   "metadata": {},
   "source": [
    "# Kaznatcheev, et al. (2017)\n",
    "\n",
    "Consider a cell interacting with $n$ nearby cells. Let $b_a$ be the benefit per unit of acidification. Define\n",
    "$$A_n(k)=\\frac{b_a k}{n+1}$$ to be the benefit due to acidification if $k$ cells produce acid. Similarly, let\n",
    "$b_v$ be the benefit from oxygen per unit of vascularization, and define $$V_n(k)=\\frac{b_v k}{n+1}$$ to be\n",
    "the benefit due to vascularization if $k$ cells are (over) producing VEGF. Let $c$ be the cost of VEGF production."
   ]
  },
  {
   "cell_type": "markdown",
   "metadata": {},
   "source": [
    "* The GLY strategy produces acid and does not use oxygen. It does not (over) produce VEGF. The payoff is $A_n(n_G+1)$ if there are $n_G$ other GLY cells.\n",
    "* The VOP strategy uses oxygen and does not produce acid. It (over) produces VEGF to increase vascularization. The payoff is $A_n(n_G)+V_{n-n_G}(n_V+1)-c$ if there are $n_G$ GLY cells and $n_V$ other VOP cells.\n",
    "* The DEF strategy uses oxygen and does not produce acid, and it does not (over) produce VEGF. The payoff is $A_n(n_G)+V_{n-n_G}(n_V)$."
   ]
  },
  {
   "cell_type": "markdown",
   "metadata": {},
   "source": [
    "If $x_G$ is the proportion of GLY cells in the population, then the expected fitness of the glycolytic cells is\n",
    "$$w_G=\\langle A_n(n_G+1)\\rangle_{n_G\\sim\\textbf{B}_n(x_G)}=\\left\\langle\\frac{b_a(n_G+1)}{n+1}\\right\\rangle_{n_G\\sim\\textbf{B}_n(x_G)},$$\n",
    "where $\\langle\\cdot\\rangle_{n\\sim\\textbf{D}}$ computes the average over the random variable $n$ sampled from the distribution $\\textbf{D}$;\n",
    "in this case, $\\textbf{B}_n(x_G)$ is the binomial distribution with $n$ trials and probability of success $x_G$.\n",
    "Similarly, if $x_V$ and $x_D=1-x_G-x_V$ are the proportions of VOP and DEF cells, respectively, then the expected fitness values of those corresponding populations are\n",
    "$$w_V=\\left\\langle\\frac{b_a n_G}{n+1}\\right\\rangle_{n_G\\sim\\textbf{B}_n(x_G)}\n",
    "+\\left\\langle\\frac{b_v(n_V+1)}{n-n_G+1}\\right\\rangle_{n_G,n_V\\sim\\textbf{M}_n(x_G,x_V)}-c$$\n",
    "and\n",
    "$$w_D=\\left\\langle\\frac{b_a n_G}{n+1}\\right\\rangle_{n_G\\sim\\textbf{B}_n(x_G)}\n",
    "+\\left\\langle\\frac{b_v n_V}{n-n_G+1}\\right\\rangle_{n_G,n_V\\sim\\textbf{M}_n(x_G,x_V)},$$\n",
    "where $\\textbf{M}_n(x_G,x_V)$ is the multinomial distribution with $n$ trials and probabilities of the first and second outcomes $x_G$ and $x_V$.\n",
    "The expected fitness of the entire population is then $\\langle w\\rangle=x_Gw_G+x_Vw_V+x_Dw_D$.\n"
   ]
  },
  {
   "cell_type": "markdown",
   "metadata": {},
   "source": [
    "The evolutionary dynamics of the population are given by the replicator equations:\n",
    "$$\\dot x_G=x_G(w_G-\\langle w\\rangle)$$\n",
    "$$\\dot x_V=x_V(w_V-\\langle w\\rangle)$$\n",
    "$$\\dot x_D=x_D(w_D-\\langle w\\rangle)$$\n"
   ]
  },
  {
   "cell_type": "markdown",
   "metadata": {},
   "source": [
    "## Factoring to Reduced (2D) Coordinates\n",
    "\n",
    "Let $p=x_G$ be the proportion of GLY cells, and $q=\\frac{x_V}{x_V+x_D}$ be the proportion of aerobic (non-glycolytic) cells that follow the VOP strategy. The dynamics may then be rewritten as\n",
    "$$\\dot p=p(1-p)(w_G-q w_V-(1-q)w_D)$$\n",
    "$$\\dot q=q(1-q)(w_V-w_D).$$"
   ]
  },
  {
   "cell_type": "markdown",
   "metadata": {},
   "source": [
    "Using properties of binomial and multinomial distributions, we may evaluate the expected values to find the following equivalent equations:\n",
    "$$\\dot p=p(1-p)\\left(\\frac{b_a}{n+1}-q(b_v-c)\\right)$$\n",
    "$$\\dot q=q(1-q)\\left(\\frac{b_v}{n+1}\\left(\\sum_{k=0}^n p^k\\right)-c\\right)$$"
   ]
  },
  {
   "cell_type": "markdown",
   "metadata": {},
   "source": [
    "## Gluzman Code"
   ]
  },
  {
   "cell_type": "code",
   "execution_count": 4,
   "metadata": {},
   "outputs": [
    {
     "data": {
      "text/plain": [
       "\u001b[36md_max\u001b[39m: \u001b[32mDouble\u001b[39m = \u001b[32m3.0\u001b[39m\n",
       "\u001b[36msigma\u001b[39m: \u001b[32mDouble\u001b[39m = \u001b[32m0.01\u001b[39m\n",
       "\u001b[36mba\u001b[39m: \u001b[32mDouble\u001b[39m = \u001b[32m2.5\u001b[39m\n",
       "\u001b[36mbv\u001b[39m: \u001b[32mDouble\u001b[39m = \u001b[32m2.0\u001b[39m\n",
       "\u001b[36mc\u001b[39m: \u001b[32mDouble\u001b[39m = \u001b[32m1.0\u001b[39m\n",
       "\u001b[36mn_neigh\u001b[39m: \u001b[32mInt\u001b[39m = \u001b[32m4\u001b[39m\n",
       "\u001b[36mfb\u001b[39m: \u001b[32mDouble\u001b[39m = \u001b[32m0.03162277660168379\u001b[39m\n",
       "\u001b[36mrb\u001b[39m: \u001b[32mDouble\u001b[39m = \u001b[32m0.03162277660168379\u001b[39m\n",
       "\u001b[36mn\u001b[39m: \u001b[32mInt\u001b[39m = \u001b[32m9000\u001b[39m\n",
       "\u001b[36mh\u001b[39m: \u001b[32mDouble\u001b[39m = \u001b[32m1.1111111111111112E-4\u001b[39m\n",
       "\u001b[36miter_tol\u001b[39m: \u001b[32mDouble\u001b[39m = \u001b[32m1.0E-4\u001b[39m\n",
       "\u001b[36mhugeVal\u001b[39m: \u001b[32mInt\u001b[39m = \u001b[32m100000\u001b[39m\n",
       "\u001b[36mtinyVal\u001b[39m: \u001b[32mDouble\u001b[39m = \u001b[32m1.0E-10\u001b[39m"
      ]
     },
     "execution_count": 4,
     "metadata": {},
     "output_type": "execute_result"
    }
   ],
   "source": [
    "// Model parameters\n",
    "val d_max = 3.0\n",
    "val sigma = 0.01\n",
    "val ba = 2.5\n",
    "val bv = 2.0\n",
    "val c = 1.0\n",
    "val n_neigh = 4\n",
    "val fb = math.sqrt(1e-3)\n",
    "val rb = fb\n",
    "\n",
    "// Discretization parameters\n",
    "val n = 9000\n",
    "val h = 1.0 / n\n",
    "val iter_tol = 1e-4\n",
    "val hugeVal = 100000\n",
    "val tinyVal = 1e-10"
   ]
  },
  {
   "cell_type": "markdown",
   "metadata": {},
   "source": [
    "The `u(i, j)` matrix gives the value function $u(x_D, x_G)$, where $x_D = i\\cdot h$ and $x_G = j\\cdot h$ (and $x_V = 1 - x_D - x_G$).\n",
    "We have $0\\leq x_D, x_G$ and $x_D + x_G\\leq 1$.\n",
    "\n",
    "If $x_G < r_b$, then _recovery_; if $x_G > 1 - f_b$, then _failure_."
   ]
  },
  {
   "cell_type": "code",
   "execution_count": 5,
   "metadata": {},
   "outputs": [
    {
     "data": {
      "text/plain": [
       "defined \u001b[32mfunction\u001b[39m \u001b[36mu_initiation\u001b[39m\n",
       "defined \u001b[32mtype\u001b[39m \u001b[36mState\u001b[39m\n",
       "defined \u001b[32mfunction\u001b[39m \u001b[36mK\u001b[39m"
      ]
     },
     "execution_count": 5,
     "metadata": {},
     "output_type": "execute_result"
    }
   ],
   "source": [
    "def u_initiation(n: Int): Array[Array[Double]] = Array.tabulate(n+1, n+1) {(i, j) =>\n",
    "  if (i + j <= n) { // x_D + x_G <= 1\n",
    "    if (j * h < rb) { // x_G < rb\n",
    "      0\n",
    "    } else {\n",
    "      hugeVal\n",
    "    }\n",
    "  } else {\n",
    "    Double.NaN\n",
    "  }\n",
    "}\n",
    "\n",
    "// (x_D, x_G) coordinates\n",
    "type State = (Double, Double)\n",
    "\n",
    "// Instantaneous cost\n",
    "def K(x: State, d: Double): Double = d + sigma"
   ]
  },
  {
   "cell_type": "markdown",
   "metadata": {},
   "source": [
    "Compute $\\langle\\dot x_D, \\dot x_G\\rangle$, given $\\langle x_D, x_G\\rangle$ and $d$.\n",
    "Since $x_D = (1-p)(1-q)$, $\\dot x_D = -\\dot q(1 - p) -\\dot p(1 - q)$.\n",
    "\n",
    "Note that when $x_G=0$ (bottom edge of triangle, in recovery zone), $\\dot x_G=0$.\n",
    "Similarly, when $x_D=0$ (left edge) or $x_V=0$ (right edge), $\\dot x_D=0$. Therefore, the direction of movement never points outside the triangle."
   ]
  },
  {
   "cell_type": "code",
   "execution_count": 7,
   "metadata": {},
   "outputs": [
    {
     "data": {
      "text/plain": [
       "defined \u001b[32mfunction\u001b[39m \u001b[36mf\u001b[39m"
      ]
     },
     "execution_count": 7,
     "metadata": {},
     "output_type": "execute_result"
    }
   ],
   "source": [
    "def f(x: State, d: Double): State = {\n",
    "  val (x_D, x_G) = x\n",
    "  val x_V = 1 - x_D - x_G\n",
    "  val p = x_G\n",
    "  val q = x_V / (x_V + x_D)\n",
    "  \n",
    "  // Since p < 1.0, this is (1 - math.pow(p, n_neigh + 1)) / (1 - p):\n",
    "  val sum_p = ((0 to n_neigh) map {z => math.pow(p, z)}).sum\n",
    "  \n",
    "  val dq = q * (1 - q) * (bv / (n_neigh + 1) * sum_p - c)\n",
    "  val dp = p * (1 - p) * (ba / (n_neigh + 1) - q * (bv - c) - d)\n",
    "  \n",
    "  (-dq * (1 - p) - dp * (1 - q), dp)\n",
    "}"
   ]
  },
  {
   "cell_type": "code",
   "execution_count": 11,
   "metadata": {},
   "outputs": [
    {
     "data": {
      "text/plain": [
       "defined \u001b[32mfunction\u001b[39m \u001b[36mtau_func\u001b[39m"
      ]
     },
     "execution_count": 11,
     "metadata": {},
     "output_type": "execute_result"
    }
   ],
   "source": [
    "def tau_func(x: State, d: Double, i: Int, j: Int): Double = {\n",
    "  val (x1, x2) = x\n",
    "  val (dx1, dx2) = f(x, d)\n",
    "  assert(dx1*dx1 + dx2*dx2 > 0)\n",
    "  \n",
    "  val (sdx1, sdx2) = (math.signum(dx1), math.signum(dx2))\n",
    "  \n",
    "  if (dx1 == 0) {\n",
    "    h / math.abs(dx2)\n",
    "  } else if (dx2 == 0) {\n",
    "    h / math.abs(dx1)\n",
    "  } else {\n",
    "    val (dj1, di2) = if (dx1 * dx2 > 0) {\n",
    "      (0.0, 0.0)\n",
    "    } else if (math.abs(dx2) > math.abs(dx1)) {\n",
    "      (sdx2, 0.0)\n",
    "    } else {\n",
    "      (0.0, sdx1)\n",
    "    }\n",
    "    \n",
    "    val (x11, x12, x21, x22) = ((i + sdx1) * h, (j + dj1) * h, (i + di2) * h, (j + sdx2) * h)\n",
    "    \n",
    "    val k1 = x21 - x11\n",
    "    val k2 = x12 - x22\n",
    "    val kc = -(x12 * k1 + x11 * k2)\n",
    "    -(kc + k1 * x2 + k2 * x1) / (k1 * dx2 + k2 * dx1)\n",
    "  }\n",
    "} ensuring {y => !y.isNaN && !y.isInfinite && y > 0}"
   ]
  },
  {
   "cell_type": "markdown",
   "metadata": {},
   "source": [
    "Alternate computation of neighboring interpolation points. Given grid point `(i, j)` (corresponding to state $x$) and control `d`, return grid points `(i1, j1)` and `(i2, j2)` (corresponding to neighboring states $x_1$ and $x_2$), plus interpolation fraction $\\gamma$ and time step $\\tau$ such that $\\tilde x=(1-\\gamma)x_1 + \\gamma x_2$ is the point $x+\\tau f(x,d)$."
   ]
  },
  {
   "cell_type": "code",
   "execution_count": 72,
   "metadata": {},
   "outputs": [
    {
     "data": {
      "text/plain": [
       "defined \u001b[32mfunction\u001b[39m \u001b[36mneighbors\u001b[39m"
      ]
     },
     "execution_count": 72,
     "metadata": {},
     "output_type": "execute_result"
    }
   ],
   "source": [
    "def neighbors(i: Int, j: Int, d: Double): ((Int, Int), (Int, Int), Double, Double) = {\n",
    "  val x = (i * h, j * h)\n",
    "  val (dx_D, dx_G) = f(x, d)\n",
    "  assert(dx_D*dx_D + dx_G*dx_G > 0)\n",
    "  \n",
    "  val ((i1, j1), (i2, j2)) =\n",
    "  if (dx_D >= 0 && dx_G >= 0) {\n",
    "    ((i, j+1), (i+1, j))\n",
    "  } else if (dx_D >= 0 && dx_G >= -dx_D) {\n",
    "    ((i+1, j), (i+1, j-1))\n",
    "  } else if (dx_D >= 0) {\n",
    "    ((i+1, j-1), (i, j-1))\n",
    "  } else if (dx_G <= 0) {\n",
    "    ((i, j-1), (i-1, j))\n",
    "  } else if (dx_G <= -dx_D) {\n",
    "    ((i-1, j), (i-1, j+1))\n",
    "  } else {\n",
    "    ((i-1, j+1), (i, j+1))\n",
    "  }\n",
    "  \n",
    "  val (x_D, x_G) = x\n",
    "  val (x1_D, x1_G) = (i1 * h, j1 * h)\n",
    "  val (x2_D, x2_G) = (i2 * h, j2 * h)\n",
    "  \n",
    "  // Find intersection xtilde of line through x1 and x2\n",
    "  // with ray based at x having direction f(x, d)\n",
    "  // See https://en.wikipedia.org/wiki/Line%E2%80%93line_intersection\n",
    "  val det = (x1_G - x2_G) * dx_D - (x1_D - x2_D) * dx_G\n",
    "  val gamma = ((x1_G - x_G) * dx_D - (x1_D - x_D) * dx_G) / det\n",
    "  val tau = ((x1_G - x2_G) * (x1_D - x_D) - (x1_D - x2_D) * (x1_G - x_G)) / det\n",
    "  \n",
    "  ((i1, j1), (i2, j2), gamma, tau)\n",
    "}"
   ]
  },
  {
   "cell_type": "code",
   "execution_count": 71,
   "metadata": {},
   "outputs": [
    {
     "name": "stdout",
     "output_type": "stream",
     "text": [
      "-1.1752751549742868E-16\n"
     ]
    },
    {
     "data": {
      "text/plain": [
       "\u001b[32mimport \u001b[39m\u001b[36mscala.util.Random\n",
       "\u001b[39m\n",
       "\u001b[36mi\u001b[39m: \u001b[32mInt\u001b[39m = \u001b[32m5516\u001b[39m\n",
       "\u001b[36mj\u001b[39m: \u001b[32mInt\u001b[39m = \u001b[32m4107\u001b[39m\n",
       "\u001b[36md\u001b[39m: \u001b[32mDouble\u001b[39m = \u001b[32m0.0\u001b[39m\n",
       "\u001b[36mtau1\u001b[39m: \u001b[32mDouble\u001b[39m = \u001b[32m5.634188013635888E-4\u001b[39m\n",
       "\u001b[36mtau2\u001b[39m: \u001b[32mDouble\u001b[39m = \u001b[32m5.634188013637063E-4\u001b[39m"
      ]
     },
     "execution_count": 71,
     "metadata": {},
     "output_type": "execute_result"
    }
   ],
   "source": [
    "import scala.util.Random\n",
    "val i = Random.nextInt(n + 1)\n",
    "val j = Random.nextInt(n + 1 - i)\n",
    "val d = d_max * Random.nextInt(2)\n",
    "val tau1 = tau_func((i * h, j * h), d, i, j)\n",
    "val (_, _, _, tau2) = neighbors(i, j, d)\n",
    "println(tau1 - tau2)"
   ]
  }
 ],
 "metadata": {
  "kernelspec": {
   "display_name": "Scala (2.12)",
   "language": "scala",
   "name": "scala212"
  },
  "language_info": {
   "codemirror_mode": "text/x-scala",
   "file_extension": ".scala",
   "mimetype": "text/x-scala",
   "name": "scala",
   "nbconvert_exporter": "script",
   "version": "2.12.11"
  }
 },
 "nbformat": 4,
 "nbformat_minor": 4
}
